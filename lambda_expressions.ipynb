{
 "cells": [
  {
   "cell_type": "markdown",
   "metadata": {},
   "source": [
    "Syntax:\n",
    "<p><b>lambda</b> arguments: <i>expression</i></p>"
   ]
  },
  {
   "cell_type": "code",
   "execution_count": 5,
   "metadata": {},
   "outputs": [
    {
     "name": "stdout",
     "output_type": "stream",
     "text": [
      "[25, 16, 36, 64, 4, 9]\n"
     ]
    }
   ],
   "source": [
    "#Square\n",
    "my_list = [5, 4, 6, 8, 2, 3]\n",
    "\n",
    "square_list = list(map(lambda num: num**2, my_list))\n",
    "print(square_list)"
   ]
  },
  {
   "cell_type": "code",
   "execution_count": 6,
   "metadata": {},
   "outputs": [
    {
     "name": "stdout",
     "output_type": "stream",
     "text": [
      "[(10, -1), (6, 2), (0, 4), (9, 9)]\n"
     ]
    }
   ],
   "source": [
    "#List of tuples: sorting by the second item\n",
    "tl = [(0,4), (6,2), (9,9), (10,-1)]\n",
    "\n",
    "tl.sort(key=lambda x: x[1])\n",
    "print(tl)"
   ]
  }
 ],
 "metadata": {
  "kernelspec": {
   "display_name": "Python 3",
   "language": "python",
   "name": "python3"
  },
  "language_info": {
   "codemirror_mode": {
    "name": "ipython",
    "version": 3
   },
   "file_extension": ".py",
   "mimetype": "text/x-python",
   "name": "python",
   "nbconvert_exporter": "python",
   "pygments_lexer": "ipython3",
   "version": "3.7.6"
  }
 },
 "nbformat": 4,
 "nbformat_minor": 4
}
