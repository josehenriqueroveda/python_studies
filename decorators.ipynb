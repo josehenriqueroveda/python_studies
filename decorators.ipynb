{
 "cells": [
  {
   "cell_type": "code",
   "execution_count": 15,
   "metadata": {},
   "outputs": [],
   "source": [
    "# Create an @authenticated decorator that only allows the function to run if user1 has 'valid' set to True:\n",
    "user1 = {\n",
    "    'name': 'Jose',\n",
    "    'valid': True\n",
    "}"
   ]
  },
  {
   "cell_type": "code",
   "execution_count": 16,
   "metadata": {},
   "outputs": [],
   "source": [
    "def authenticated(fn):\n",
    "    def wrapper(*args, **kwargs):\n",
    "        if args[0]['valid']:\n",
    "            return fn(*args, **kwargs)\n",
    "    return wrapper"
   ]
  },
  {
   "cell_type": "code",
   "execution_count": 17,
   "metadata": {
    "scrolled": true
   },
   "outputs": [
    {
     "name": "stdout",
     "output_type": "stream",
     "text": [
      "message has been sent\n"
     ]
    }
   ],
   "source": [
    "@authenticated\n",
    "def message_friends(user):\n",
    "    print('message has been sent')\n",
    "\n",
    "message_friends(user1)"
   ]
  }
 ],
 "metadata": {
  "kernelspec": {
   "display_name": "Python 3",
   "language": "python",
   "name": "python3"
  },
  "language_info": {
   "codemirror_mode": {
    "name": "ipython",
    "version": 3
   },
   "file_extension": ".py",
   "mimetype": "text/x-python",
   "name": "python",
   "nbconvert_exporter": "python",
   "pygments_lexer": "ipython3",
   "version": "3.7.6"
  }
 },
 "nbformat": 4,
 "nbformat_minor": 4
}
