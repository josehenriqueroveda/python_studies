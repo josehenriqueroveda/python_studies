{
  "nbformat": 4,
  "nbformat_minor": 0,
  "metadata": {
    "colab": {
      "name": "UsefulOneLineAlgorithms",
      "provenance": [],
      "authorship_tag": "ABX9TyNH2ev7MXzh9yVlXCssIFFO",
      "include_colab_link": true
    },
    "kernelspec": {
      "name": "python3",
      "display_name": "Python 3"
    }
  },
  "cells": [
    {
      "cell_type": "markdown",
      "metadata": {
        "id": "view-in-github",
        "colab_type": "text"
      },
      "source": [
        "<a href=\"https://colab.research.google.com/github/josehenriqueroveda/pythonStudies/blob/master/UsefulOneLineAlgorithms.ipynb\" target=\"_parent\"><img src=\"https://colab.research.google.com/assets/colab-badge.svg\" alt=\"Open In Colab\"/></a>"
      ]
    },
    {
      "cell_type": "markdown",
      "metadata": {
        "id": "NFFLzsf6wWMw",
        "colab_type": "text"
      },
      "source": [
        "**Palindrome Check**\n"
      ]
    },
    {
      "cell_type": "code",
      "metadata": {
        "id": "V_SwaKGcwI_7",
        "colab_type": "code",
        "outputId": "586e0f39-44ef-4197-8598-f4a67371d61c",
        "colab": {
          "base_uri": "https://localhost:8080/",
          "height": 35
        }
      },
      "source": [
        "word = 'reviver'\n",
        "p = bool(word.find(word[::-1]) + 1)\n",
        "print(p)"
      ],
      "execution_count": 0,
      "outputs": [
        {
          "output_type": "stream",
          "text": [
            "True\n"
          ],
          "name": "stdout"
        }
      ]
    },
    {
      "cell_type": "markdown",
      "metadata": {
        "id": "bzev9Ib1wVOL",
        "colab_type": "text"
      },
      "source": [
        "**Sum of even numbers up to n**\n"
      ]
    },
    {
      "cell_type": "code",
      "metadata": {
        "id": "n1kiQxukxHM8",
        "colab_type": "code",
        "outputId": "36910412-8ea7-46bb-a6da-6342178ec926",
        "colab": {
          "base_uri": "https://localhost:8080/",
          "height": 35
        }
      },
      "source": [
        "n = 20\n",
        "s = sum((range(n+1))[::2])\n",
        "print(s)"
      ],
      "execution_count": 0,
      "outputs": [
        {
          "output_type": "stream",
          "text": [
            "110\n"
          ],
          "name": "stdout"
        }
      ]
    },
    {
      "cell_type": "markdown",
      "metadata": {
        "id": "nlE89DNRx06r",
        "colab_type": "text"
      },
      "source": [
        "**Read line of file into a list**"
      ]
    },
    {
      "cell_type": "code",
      "metadata": {
        "id": "QR80aYYex8Mx",
        "colab_type": "code",
        "colab": {}
      },
      "source": [
        "with open(\"myfile.txt\") as f:\n",
        "  lines = [line.strip() for line in f]"
      ],
      "execution_count": 0,
      "outputs": []
    },
    {
      "cell_type": "markdown",
      "metadata": {
        "id": "M7js8EYvyxY5",
        "colab_type": "text"
      },
      "source": [
        "**Factorial**"
      ]
    },
    {
      "cell_type": "code",
      "metadata": {
        "id": "FpYzOVz3yz3u",
        "colab_type": "code",
        "outputId": "07aca3fb-0d1b-4ded-d5b2-e5aa44d8faa0",
        "colab": {
          "base_uri": "https://localhost:8080/",
          "height": 35
        }
      },
      "source": [
        "from functools import reduce\n",
        "\n",
        "n = 3\n",
        "factorial = reduce(lambda x, y: x*y, range(1, n+1))\n",
        "print(factorial)"
      ],
      "execution_count": 0,
      "outputs": [
        {
          "output_type": "stream",
          "text": [
            "6\n"
          ],
          "name": "stdout"
        }
      ]
    },
    {
      "cell_type": "markdown",
      "metadata": {
        "id": "dVkJdq4OzOl9",
        "colab_type": "text"
      },
      "source": [
        "**Fibonacci**"
      ]
    },
    {
      "cell_type": "code",
      "metadata": {
        "id": "w-zqwVokzQz9",
        "colab_type": "code",
        "outputId": "ad4e72b1-9705-4709-fd8d-0c5701e330d6",
        "colab": {
          "base_uri": "https://localhost:8080/",
          "height": 35
        }
      },
      "source": [
        "fib = lambda n : n if n <= 1 else fib(n-1) + fib(n-2)\n",
        "result = fib(10)\n",
        "print(result)"
      ],
      "execution_count": 0,
      "outputs": [
        {
          "output_type": "stream",
          "text": [
            "55\n"
          ],
          "name": "stdout"
        }
      ]
    },
    {
      "cell_type": "markdown",
      "metadata": {
        "id": "3eZ3afF30Ju7",
        "colab_type": "text"
      },
      "source": [
        "**Unzip**"
      ]
    },
    {
      "cell_type": "code",
      "metadata": {
        "id": "v02J5Gpi0M5y",
        "colab_type": "code",
        "outputId": "410e11f9-d1cc-4247-9941-ea49b256cb9b",
        "colab": {
          "base_uri": "https://localhost:8080/",
          "height": 35
        }
      },
      "source": [
        "z = [(1, 2), (3, 4), (5, 6), (7, 8)] #some output of zip() function\n",
        "unzip = lambda z: list(zip(*z))\n",
        "unzip(z)"
      ],
      "execution_count": 0,
      "outputs": [
        {
          "output_type": "execute_result",
          "data": {
            "text/plain": [
              "[(1, 3, 5, 7), (2, 4, 6, 8)]"
            ]
          },
          "metadata": {
            "tags": []
          },
          "execution_count": 15
        }
      ]
    },
    {
      "cell_type": "markdown",
      "metadata": {
        "id": "zVS9geqm0xAY",
        "colab_type": "text"
      },
      "source": [
        "**Get first and last element of list**"
      ]
    },
    {
      "cell_type": "code",
      "metadata": {
        "id": "hOMD9qcF02LR",
        "colab_type": "code",
        "outputId": "eb283c70-39a8-4dbe-ced6-60ff163c3d7d",
        "colab": {
          "base_uri": "https://localhost:8080/",
          "height": 53
        }
      },
      "source": [
        "mList = [1, 2, 3, 4, 5, 6, 7, 8, 9, 10]\n",
        "first, *x, last = mList\n",
        "print(first)\n",
        "print(last)"
      ],
      "execution_count": 0,
      "outputs": [
        {
          "output_type": "stream",
          "text": [
            "1\n",
            "10\n"
          ],
          "name": "stdout"
        }
      ]
    },
    {
      "cell_type": "markdown",
      "metadata": {
        "id": "u9gzZuEfMIgz",
        "colab_type": "text"
      },
      "source": [
        "**Comprehensions: Find duplicates on list**"
      ]
    },
    {
      "cell_type": "code",
      "metadata": {
        "id": "eenE0uJuMTsm",
        "colab_type": "code",
        "colab": {
          "base_uri": "https://localhost:8080/",
          "height": 35
        },
        "outputId": "b3b943a9-f3d1-4c15-9a18-bd4351e30418"
      },
      "source": [
        "car_list = ['gol', 'palio', 'uno', 'kombi', 'golf', 'hb20', 'onix', 'uno', 'focus', 'gol', 'onix']\n",
        "\n",
        "duplicates = list(set([car for car in car_list if car_list.count(car) > 1]))\n",
        "print(duplicates)"
      ],
      "execution_count": 4,
      "outputs": [
        {
          "output_type": "stream",
          "text": [
            "['uno', 'onix', 'gol']\n"
          ],
          "name": "stdout"
        }
      ]
    }
  ]
}