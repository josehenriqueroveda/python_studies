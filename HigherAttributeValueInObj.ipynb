{
  "nbformat": 4,
  "nbformat_minor": 0,
  "metadata": {
    "colab": {
      "name": "HigherAttributeValueInObj.ipynb",
      "provenance": [],
      "authorship_tag": "ABX9TyMHxXVTGOkVX9oYKAuOyzkn",
      "include_colab_link": true
    },
    "kernelspec": {
      "name": "python3",
      "display_name": "Python 3"
    }
  },
  "cells": [
    {
      "cell_type": "markdown",
      "metadata": {
        "id": "view-in-github",
        "colab_type": "text"
      },
      "source": [
        "<a href=\"https://colab.research.google.com/github/josehenriqueroveda/pythonSimpleAlgorithms/blob/master/HigherAttributeValueInObj.ipynb\" target=\"_parent\"><img src=\"https://colab.research.google.com/assets/colab-badge.svg\" alt=\"Open In Colab\"/></a>"
      ]
    },
    {
      "cell_type": "markdown",
      "metadata": {
        "id": "U9Hu_1Lju_7D",
        "colab_type": "text"
      },
      "source": [
        "This get the attribute value with the highest value:"
      ]
    },
    {
      "cell_type": "code",
      "metadata": {
        "id": "G5QXsaEouvkV",
        "colab_type": "code",
        "colab": {}
      },
      "source": [
        "class Cat:\n",
        "    species = 'mammal'\n",
        "    def __init__(self, name, age):\n",
        "        self.name = name\n",
        "        self.age = age"
      ],
      "execution_count": 0,
      "outputs": []
    },
    {
      "cell_type": "code",
      "metadata": {
        "id": "kXeaAf9ovKer",
        "colab_type": "code",
        "colab": {}
      },
      "source": [
        "# Instantiate the Cat object with 3 cats\n",
        "peanut = Cat(\"Peanut\", 5)\n",
        "garfield = Cat(\"Garfield\", 9)\n",
        "snickers = Cat(\"Snickers\", 4)"
      ],
      "execution_count": 0,
      "outputs": []
    },
    {
      "cell_type": "code",
      "metadata": {
        "id": "cJbqzpG6vNrS",
        "colab_type": "code",
        "colab": {}
      },
      "source": [
        "# Find the oldest cat\n",
        "def get_oldest_cat(*args):\n",
        "    return max(args)"
      ],
      "execution_count": 0,
      "outputs": []
    },
    {
      "cell_type": "code",
      "metadata": {
        "id": "T0VMtPsovSgy",
        "colab_type": "code",
        "colab": {
          "base_uri": "https://localhost:8080/",
          "height": 35
        },
        "outputId": "05837608-b895-4d04-fa21-1989c14bd2aa"
      },
      "source": [
        "# Output\n",
        "print(f\"The oldest cat is {get_oldest_cat(peanut.age, garfield.age, snickers.age)} years old.\")"
      ],
      "execution_count": 8,
      "outputs": [
        {
          "output_type": "stream",
          "text": [
            "The oldest cat is 9 years old.\n"
          ],
          "name": "stdout"
        }
      ]
    }
  ]
}